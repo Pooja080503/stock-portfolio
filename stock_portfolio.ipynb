{
  "nbformat": 4,
  "nbformat_minor": 0,
  "metadata": {
    "colab": {
      "provenance": []
    },
    "kernelspec": {
      "name": "python3",
      "display_name": "Python 3"
    },
    "language_info": {
      "name": "python"
    }
  },
  "cells": [
    {
      "cell_type": "code",
      "execution_count": 1,
      "metadata": {
        "id": "tDVYJw-fXKa2"
      },
      "outputs": [],
      "source": [
        "import requests\n",
        "\n",
        "API_KEY = 'YOUR_API_KEY'\n",
        "\n",
        "def get_stock_data(symbol):\n",
        "    url = f'https://www.alphavantage.co/query?function=GLOBAL_QUOTE&symbol={symbol}&apikey={API_KEY}'\n",
        "    response = requests.get(url)\n",
        "    data = response.json()\n",
        "    if 'Global Quote' in data:\n",
        "        return data['Global Quote']\n",
        "    else:\n",
        "        return None"
      ]
    },
    {
      "cell_type": "code",
      "source": [
        "class Portfolio:\n",
        "    def __init__(self):\n",
        "        self.stocks = {}\n",
        "\n",
        "    def add_stock(self, symbol, quantity):\n",
        "        if symbol in self.stocks:\n",
        "            self.stocks[symbol] += quantity\n",
        "        else:\n",
        "            self.stocks[symbol] = quantity\n",
        "\n",
        "    def remove_stock(self, symbol, quantity):\n",
        "        if symbol in self.stocks:\n",
        "            self.stocks[symbol] -= quantity\n",
        "            if self.stocks[symbol] <= 0:\n",
        "                del self.stocks[symbol]\n",
        "\n",
        "    def get_portfolio_value(self):\n",
        "        total_value = 0\n",
        "        for symbol, quantity in self.stocks.items():\n",
        "            stock_data = get_stock_data(symbol)\n",
        "            if stock_data:\n",
        "                price = float(stock_data['05. price'])\n",
        "                total_value += price * quantity\n",
        "        return total_value"
      ],
      "metadata": {
        "id": "oah9VJEmXgdP"
      },
      "execution_count": 2,
      "outputs": []
    },
    {
      "cell_type": "code",
      "source": [
        "def calculate_gain_loss(initial_value, current_value):\n",
        "    return current_value - initial_value\n",
        "\n",
        "def calculate_diversification(portfolio):\n",
        "    sector_weights = {}\n",
        "    total_value = portfolio.get_portfolio_value()\n",
        "    for symbol, quantity in portfolio.stocks.items():\n",
        "        stock_data = get_stock_data(symbol)\n",
        "        if stock_data:\n",
        "            sector = stock_data['08. currency']\n",
        "            if sector in sector_weights:\n",
        "                sector_weights[sector] += quantity * float(stock_data['05. price'])\n",
        "            else:\n",
        "                sector_weights[sector] = quantity * float(stock_data['05. price'])\n",
        "    diversification = {sector: (value / total_value) * 100 for sector, value in sector_weights.items()}\n",
        "    return diversification\n",
        "\n",
        "def main():\n",
        "    portfolio = Portfolio()\n",
        "\n",
        "    while True:\n",
        "        print(\"1. Add stock to portfolio\")\n",
        "        print(\"2. Remove stock from portfolio\")\n",
        "        print(\"3. View portfolio value\")\n",
        "        print(\"4. Exit\")\n",
        "\n",
        "        choice = input(\"Enter your choice: \")\n",
        "\n",
        "        if choice == '1':\n",
        "            symbol = input(\"Enter stock symbol: \")\n",
        "            quantity = int(input(\"Enter quantity: \"))\n",
        "            portfolio.add_stock(symbol, quantity)\n",
        "        elif choice == '2':\n",
        "            symbol = input(\"Enter stock symbol: \")\n",
        "            quantity = int(input(\"Enter quantity: \"))\n",
        "            portfolio.remove_stock(symbol, quantity)\n",
        "        elif choice == '3':\n",
        "            value = portfolio.get_portfolio_value()\n",
        "            print(f\"Portfolio value: ${value:.2f}\")\n",
        "            print(\"Gains/Losses: ${:.2f}\".format(calculate_gain_loss(initial_value, value)))\n",
        "            print(\"Diversification:\")\n",
        "            for sector, weight in calculate_diversification(portfolio).items():\n",
        "                print(f\"{sector}: {weight:.2f}%\")\n",
        "        elif choice == '4':\n",
        "            break\n",
        "        else:\n",
        "            print(\"Invalid choice. Please try again.\")\n",
        "\n",
        "if __name__ == \"__main__\":\n",
        "    main()\n"
      ],
      "metadata": {
        "colab": {
          "base_uri": "https://localhost:8080/"
        },
        "id": "dRhgWAJAX4QG",
        "outputId": "561910a6-fb65-4574-87dc-f802037e525d"
      },
      "execution_count": null,
      "outputs": [
        {
          "output_type": "stream",
          "name": "stdout",
          "text": [
            "1. Add stock to portfolio\n",
            "2. Remove stock from portfolio\n",
            "3. View portfolio value\n",
            "4. Exit\n",
            "Enter your choice: 1\n",
            "Enter stock symbol: %\n",
            "Enter quantity: 100\n",
            "1. Add stock to portfolio\n",
            "2. Remove stock from portfolio\n",
            "3. View portfolio value\n",
            "4. Exit\n"
          ]
        }
      ]
    }
  ]
}